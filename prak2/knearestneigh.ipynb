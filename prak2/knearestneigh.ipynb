{
 "cells": [
  {
   "cell_type": "code",
   "execution_count": 251,
   "metadata": {},
   "outputs": [
    {
     "name": "stdout",
     "output_type": "stream",
     "text": [
      "loaded data\n"
     ]
    }
   ],
   "source": [
    "#load data, could look into datasets from sklearn\n",
    "import csv\n",
    "\n",
    "images = []\n",
    "with open('data/images.csv', newline='') as imagefile:\n",
    "    imagereader = csv.reader(imagefile, delimiter = ';')\n",
    "    for row in imagereader:\n",
    "        images.append(row)\n",
    "\n",
    "imageNr = (images.pop(0))[0]\n",
    "\n",
    "edges = []\n",
    "with open('data/EdgeHistogram.csv', newline='') as edgefile:\n",
    "    edgereader = csv.reader(edgefile, quoting = csv.QUOTE_NONNUMERIC, delimiter = ';')\n",
    "    for row in edgereader:\n",
    "        edges.append(row)\n",
    "\n",
    "edgesNr = (edges.pop(0))[1]\n",
    "\n",
    "print(\"loaded data\")\n"
   ]
  },
  {
   "cell_type": "code",
   "execution_count": 252,
   "metadata": {},
   "outputs": [
    {
     "name": "stdout",
     "output_type": "stream",
     "text": [
      "prepared training and testset\n"
     ]
    }
   ],
   "source": [
    "# create training and testdataset (size of one partition = m)\n",
    "import random\n",
    "\n",
    "m = 15\n",
    "\n",
    "imagetestset = random.sample(images, m)\n",
    "imagetrainset = images\n",
    "\n",
    "edgetestset = []\n",
    "edgetrainset = edges\n",
    "\n",
    "numbers = []\n",
    "for img in imagetestset:\n",
    "    imagetrainset.remove(img)\n",
    "    numbers.append(int(img[0]))\n",
    "\n",
    "# runtime optimize would be edg then num but need order of imagetestset\n",
    "for num in numbers:\n",
    "    for edg in edgetrainset:\n",
    "        if int(edg[0]) == num:\n",
    "            edgetestset.append(edg[1:])\n",
    "            edgetrainset.remove(edg)\n",
    "\n",
    "yset = [] # goal for training (ex. airplane)\n",
    "for img in imagetrainset:\n",
    "    yset.append(img[1])\n",
    "\n",
    "xset = []\n",
    "e = []\n",
    "for edg in edgetrainset:\n",
    "    xset.append(edg[1:])\n",
    "\n",
    "for xs in xset:\n",
    "    for x in xs:\n",
    "        x = int(x)\n",
    "\n",
    "print(\"prepared training and testset\")\n"
   ]
  },
  {
   "cell_type": "code",
   "execution_count": 253,
   "metadata": {},
   "outputs": [
    {
     "name": "stdout",
     "output_type": "stream",
     "text": [
      "['grand_piano' 'umbrella' 'BACKGROUND_Google']\n",
      "['grand_piano', 'flamingo', 'camera']\n",
      "K : 5\n",
      "M : 3\n",
      "ACC : 0.3333333333333333\n"
     ]
    }
   ],
   "source": [
    "# do the training and testing, k is number of neighbors, will vary\n",
    "from sklearn.neighbors import KNeighborsClassifier as knc\n",
    "\n",
    "k = 5\n",
    "\n",
    "classifier = knc(n_neighbors = k, weights = 'uniform')\n",
    "classifier.fit(xset,yset)\n",
    "\n",
    "imgset = []\n",
    "for image in imagetestset:\n",
    "    imgset.append(image[1])\n",
    "\n",
    "result =  classifier.predict(edgetestset)\n",
    "\n",
    "print(result)\n",
    "print(imgset)\n",
    "print(\"K : \" + str(k))\n",
    "print(\"M : \" + str(m))\n",
    "\n",
    "count = 0\n",
    "for i in range(0, len(imgset)):\n",
    "    if result[i] == imgset[i]:\n",
    "        count = count + 1\n",
    "\n",
    "acc = count / m\n",
    "print(\"ACC : \" + str(acc))\n",
    "\n"
   ]
  },
  {
   "cell_type": "code",
   "execution_count": null,
   "metadata": {},
   "outputs": [],
   "source": []
  },
  {
   "cell_type": "code",
   "execution_count": null,
   "metadata": {},
   "outputs": [],
   "source": []
  }
 ],
 "metadata": {
  "kernelspec": {
   "display_name": "Python 3",
   "language": "python",
   "name": "python3"
  },
  "language_info": {
   "codemirror_mode": {
    "name": "ipython",
    "version": 3
   },
   "file_extension": ".py",
   "mimetype": "text/x-python",
   "name": "python",
   "nbconvert_exporter": "python",
   "pygments_lexer": "ipython3",
   "version": "3.11.1"
  },
  "orig_nbformat": 4,
  "vscode": {
   "interpreter": {
    "hash": "6252a103db7ee1393beb633fd48d5ef2e43cebb291f88e9d3abab6a9346562a0"
   }
  }
 },
 "nbformat": 4,
 "nbformat_minor": 2
}
